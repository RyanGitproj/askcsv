{
 "cells": [
  {
   "cell_type": "code",
   "execution_count": 1,
   "metadata": {},
   "outputs": [],
   "source": [
    "from langchain_community.document_loaders.csv_loader import CSVLoader\n",
    "from langchain_core.documents import Document\n",
    "from langchain.text_splitter import RecursiveCharacterTextSplitter\n",
    "from langchain_chroma import Chroma\n",
    "from langchain_openai import OpenAIEmbeddings, ChatOpenAI\n",
    "from typing import List, Dict, Any\n",
    "from langchain_core.prompts import ChatPromptTemplate\n",
    "from langchain_core.runnables import RunnableLambda, RunnablePassthrough, RunnableParallel\n",
    "from langchain.pydantic_v1 import BaseModel\n",
    "from langchain_core.output_parsers import StrOutputParser\n",
    "import os\n",
    "from dotenv import load_dotenv"
   ]
  },
  {
   "cell_type": "code",
   "execution_count": 2,
   "metadata": {},
   "outputs": [],
   "source": [
    "load_dotenv()\n",
    "\n",
    "os.environ[\"OPENAI_API_KEY\"] = os.getenv(\"OPENAI_API_KEY\")"
   ]
  },
  {
   "cell_type": "code",
   "execution_count": 3,
   "metadata": {},
   "outputs": [
    {
     "data": {
      "text/plain": [
       "[Document(page_content='Categorie;Nom;Marque;Caracteristiques;Prix en euro;QuantitÃ© disponible: electromenager;robot culinaire;kitchenaid;capacitÃ© 15 500w;89.99;15', metadata={'source': 'D:/Projet/AskyourCSV/data_processed.csv', 'row': 0}),\n",
       " Document(page_content='Categorie;Nom;Marque;Caracteristiques;Prix en euro;QuantitÃ© disponible: electromenager;machine cafÃ©;philips;programmable 12 1000w;79.99;20', metadata={'source': 'D:/Projet/AskyourCSV/data_processed.csv', 'row': 1}),\n",
       " Document(page_content='Categorie;Nom;Marque;Caracteristiques;Prix en euro;QuantitÃ© disponible: electromenager;aspirateur sac;dyson;puissance 1800w capacitÃ© 2l;129.99;10', metadata={'source': 'D:/Projet/AskyourCSV/data_processed.csv', 'row': 2}),\n",
       " Document(page_content='Categorie;Nom;Marque;Caracteristiques;Prix en euro;QuantitÃ© disponible: electromenager;lavevaisselle;bosch;12 couverts classe;399.99;5', metadata={'source': 'D:/Projet/AskyourCSV/data_processed.csv', 'row': 3}),\n",
       " Document(page_content='Categorie;Nom;Marque;Caracteristiques;Prix en euro;QuantitÃ© disponible: electromenager;mixer blender;moulinex;600w 5 vitesses;49.99;30', metadata={'source': 'D:/Projet/AskyourCSV/data_processed.csv', 'row': 4})]"
      ]
     },
     "execution_count": 3,
     "metadata": {},
     "output_type": "execute_result"
    }
   ],
   "source": [
    "def load_data(file_path: str) -> List[Document]:\n",
    "    loader = CSVLoader(file_path=file_path)\n",
    "    documents = loader.load()\n",
    "    return documents# Exemple de création d'une instance de QuestionRequest\n",
    "\n",
    "\n",
    "file_path_input = input(\"Entrez le chemin du fichier CSV : \")\n",
    "\n",
    "# Utilisation du file_path de l'instance QuestionRequest\n",
    "data = load_data(file_path_input)\n",
    "data[:5]"
   ]
  },
  {
   "cell_type": "code",
   "execution_count": 4,
   "metadata": {},
   "outputs": [],
   "source": [
    "text_splitter = RecursiveCharacterTextSplitter(chunk_size=1000, chunk_overlap=200)\n",
    "documents = text_splitter.split_documents(data)"
   ]
  },
  {
   "cell_type": "code",
   "execution_count": 5,
   "metadata": {},
   "outputs": [],
   "source": [
    "vectorstore = Chroma.from_documents(\n",
    "    documents,\n",
    "    embedding=OpenAIEmbeddings(model=\"text-embedding-ada-002\"),\n",
    ")"
   ]
  },
  {
   "cell_type": "code",
   "execution_count": 6,
   "metadata": {},
   "outputs": [],
   "source": [
    "retriever = RunnableLambda(vectorstore.similarity_search).bind(k=5)"
   ]
  },
  {
   "cell_type": "code",
   "execution_count": 7,
   "metadata": {},
   "outputs": [],
   "source": [
    "llm = ChatOpenAI(model=\"gpt-3.5-turbo\", temperature=0.6)"
   ]
  },
  {
   "cell_type": "code",
   "execution_count": 8,
   "metadata": {},
   "outputs": [],
   "source": [
    "template = \"\"\"Answer the question based only on the following context:\n",
    "{context}\n",
    "\n",
    "Question: {question}\n",
    "\"\"\""
   ]
  },
  {
   "cell_type": "code",
   "execution_count": 9,
   "metadata": {},
   "outputs": [],
   "source": [
    "prompt = ChatPromptTemplate.from_template(template)"
   ]
  },
  {
   "cell_type": "code",
   "execution_count": 10,
   "metadata": {},
   "outputs": [],
   "source": [
    "chain = (\n",
    "  # Extract the question text from the QuestionRequest object\n",
    "    RunnableParallel({\"context\": retriever, \"question\": RunnablePassthrough()})\n",
    "    | prompt\n",
    "    | llm\n",
    "    | StrOutputParser()\n",
    ")"
   ]
  },
  {
   "cell_type": "code",
   "execution_count": 11,
   "metadata": {},
   "outputs": [],
   "source": [
    "# def extract_input(question_request: QuestionRequest) -> Dict[str, str]:\n",
    "#     return {\"question\": question_request.question}"
   ]
  },
  {
   "cell_type": "code",
   "execution_count": 12,
   "metadata": {},
   "outputs": [
    {
     "name": "stdout",
     "output_type": "stream",
     "text": [
      "Le Xiaomi Mi 10 Lite est le téléphone le moins cher avec un prix de 299.0 euros.\n"
     ]
    }
   ],
   "source": [
    "class Question(BaseModel):\n",
    "    __root__: str\n",
    "\n",
    "chain = chain.with_types(input_type=Question)\n",
    "\n",
    "result = chain.invoke(\"Quel est le téléphone le moins cher\")\n",
    "print(result)"
   ]
  }
 ],
 "metadata": {
  "kernelspec": {
   "display_name": "ask_csv_env",
   "language": "python",
   "name": "python3"
  },
  "language_info": {
   "codemirror_mode": {
    "name": "ipython",
    "version": 3
   },
   "file_extension": ".py",
   "mimetype": "text/x-python",
   "name": "python",
   "nbconvert_exporter": "python",
   "pygments_lexer": "ipython3",
   "version": "3.12.3"
  }
 },
 "nbformat": 4,
 "nbformat_minor": 2
}
